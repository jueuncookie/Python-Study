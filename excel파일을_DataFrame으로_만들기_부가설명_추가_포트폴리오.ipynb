{
  "nbformat": 4,
  "nbformat_minor": 0,
  "metadata": {
    "colab": {
      "name": "excel파일을 DataFrame으로 만들기 부가설명 추가_포트폴리오.ipynb",
      "provenance": [],
      "collapsed_sections": []
    },
    "kernelspec": {
      "name": "python3",
      "display_name": "Python 3"
    }
  },
  "cells": [
    {
      "cell_type": "markdown",
      "metadata": {
        "id": "typ9ub1A6LLI"
      },
      "source": [
        "# Excel 파일을 DataFrame으로 만들기\n",
        "\n"
      ]
    },
    {
      "cell_type": "markdown",
      "metadata": {
        "id": "y3XK9k2J66FG"
      },
      "source": [
        "***5주차 수업 추가 정리***\n",
        "\n",
        "\n"
      ]
    },
    {
      "cell_type": "code",
      "metadata": {
        "id": "igAB9QHTFn-3"
      },
      "source": [
        "import numpy as np"
      ],
      "execution_count": null,
      "outputs": []
    },
    {
      "cell_type": "code",
      "metadata": {
        "id": "9s_9NiLuF5qP",
        "colab": {
          "base_uri": "https://localhost:8080/"
        },
        "outputId": "78f0ed0b-3e7c-4b93-b892-397a2afb66a2"
      },
      "source": [
        "data = np.random.rand(3,5)\n",
        "data"
      ],
      "execution_count": null,
      "outputs": [
        {
          "output_type": "execute_result",
          "data": {
            "text/plain": [
              "array([[0.18278607, 0.98036161, 0.48750395, 0.53216678, 0.57753577],\n",
              "       [0.48667712, 0.79933353, 0.7778682 , 0.67054498, 0.05770779],\n",
              "       [0.64412595, 0.50911922, 0.25108901, 0.96241842, 0.24816237]])"
            ]
          },
          "metadata": {
            "tags": []
          },
          "execution_count": 116
        }
      ]
    },
    {
      "cell_type": "code",
      "metadata": {
        "id": "sg6EQPmFN5o1"
      },
      "source": [
        "import pandas as pd"
      ],
      "execution_count": null,
      "outputs": []
    },
    {
      "cell_type": "code",
      "metadata": {
        "id": "MJkwPUx4ODly",
        "colab": {
          "base_uri": "https://localhost:8080/",
          "height": 419
        },
        "outputId": "cc37addb-c78a-476f-d079-e0683e7d9b56"
      },
      "source": [
        "pd.read_excel('2020-01.xlsx')"
      ],
      "execution_count": null,
      "outputs": [
        {
          "output_type": "execute_result",
          "data": {
            "text/html": [
              "<div>\n",
              "<style scoped>\n",
              "    .dataframe tbody tr th:only-of-type {\n",
              "        vertical-align: middle;\n",
              "    }\n",
              "\n",
              "    .dataframe tbody tr th {\n",
              "        vertical-align: top;\n",
              "    }\n",
              "\n",
              "    .dataframe thead th {\n",
              "        text-align: right;\n",
              "    }\n",
              "</style>\n",
              "<table border=\"1\" class=\"dataframe\">\n",
              "  <thead>\n",
              "    <tr style=\"text-align: right;\">\n",
              "      <th></th>\n",
              "      <th>상품명</th>\n",
              "      <th>판매건수</th>\n",
              "      <th>가격</th>\n",
              "    </tr>\n",
              "  </thead>\n",
              "  <tbody>\n",
              "    <tr>\n",
              "      <th>0</th>\n",
              "      <td>봉투</td>\n",
              "      <td>12362</td>\n",
              "      <td>50</td>\n",
              "    </tr>\n",
              "    <tr>\n",
              "      <th>1</th>\n",
              "      <td>바나나</td>\n",
              "      <td>4285</td>\n",
              "      <td>3900</td>\n",
              "    </tr>\n",
              "    <tr>\n",
              "      <th>2</th>\n",
              "      <td>야채</td>\n",
              "      <td>4190</td>\n",
              "      <td>0</td>\n",
              "    </tr>\n",
              "    <tr>\n",
              "      <th>3</th>\n",
              "      <td>켐벨포도</td>\n",
              "      <td>2780</td>\n",
              "      <td>29800</td>\n",
              "    </tr>\n",
              "    <tr>\n",
              "      <th>4</th>\n",
              "      <td>알뜰특란</td>\n",
              "      <td>2768</td>\n",
              "      <td>5300</td>\n",
              "    </tr>\n",
              "    <tr>\n",
              "      <th>...</th>\n",
              "      <td>...</td>\n",
              "      <td>...</td>\n",
              "      <td>...</td>\n",
              "    </tr>\n",
              "    <tr>\n",
              "      <th>195</th>\n",
              "      <td>바지락</td>\n",
              "      <td>253</td>\n",
              "      <td>0</td>\n",
              "    </tr>\n",
              "    <tr>\n",
              "      <th>196</th>\n",
              "      <td>해표)카놀라유</td>\n",
              "      <td>253</td>\n",
              "      <td>5600</td>\n",
              "    </tr>\n",
              "    <tr>\n",
              "      <th>197</th>\n",
              "      <td>오)자른당면</td>\n",
              "      <td>252</td>\n",
              "      <td>5850</td>\n",
              "    </tr>\n",
              "    <tr>\n",
              "      <th>198</th>\n",
              "      <td>롯데)알뜰소시지</td>\n",
              "      <td>252</td>\n",
              "      <td>4400</td>\n",
              "    </tr>\n",
              "    <tr>\n",
              "      <th>199</th>\n",
              "      <td>한돈앞다리/불고기,찌개(국내산)</td>\n",
              "      <td>252</td>\n",
              "      <td>0</td>\n",
              "    </tr>\n",
              "  </tbody>\n",
              "</table>\n",
              "<p>200 rows × 3 columns</p>\n",
              "</div>"
            ],
            "text/plain": [
              "                   상품명   판매건수     가격\n",
              "0                   봉투  12362     50\n",
              "1                  바나나   4285   3900\n",
              "2                   야채   4190      0\n",
              "3                 켐벨포도   2780  29800\n",
              "4                 알뜰특란   2768   5300\n",
              "..                 ...    ...    ...\n",
              "195                바지락    253      0\n",
              "196            해표)카놀라유    253   5600\n",
              "197             오)자른당면    252   5850\n",
              "198           롯데)알뜰소시지    252   4400\n",
              "199  한돈앞다리/불고기,찌개(국내산)    252      0\n",
              "\n",
              "[200 rows x 3 columns]"
            ]
          },
          "metadata": {
            "tags": []
          },
          "execution_count": 119
        }
      ]
    },
    {
      "cell_type": "code",
      "metadata": {
        "id": "yKLjHyd_OS6E",
        "colab": {
          "base_uri": "https://localhost:8080/",
          "height": 235
        },
        "outputId": "9077effe-df9e-4585-8871-f0138485bd78"
      },
      "source": [
        "df = pd.read_excel('2020-01.xlsx' ,index_col='상품명')\n",
        "\n",
        "df.head()"
      ],
      "execution_count": null,
      "outputs": [
        {
          "output_type": "execute_result",
          "data": {
            "text/html": [
              "<div>\n",
              "<style scoped>\n",
              "    .dataframe tbody tr th:only-of-type {\n",
              "        vertical-align: middle;\n",
              "    }\n",
              "\n",
              "    .dataframe tbody tr th {\n",
              "        vertical-align: top;\n",
              "    }\n",
              "\n",
              "    .dataframe thead th {\n",
              "        text-align: right;\n",
              "    }\n",
              "</style>\n",
              "<table border=\"1\" class=\"dataframe\">\n",
              "  <thead>\n",
              "    <tr style=\"text-align: right;\">\n",
              "      <th></th>\n",
              "      <th>판매건수</th>\n",
              "      <th>가격</th>\n",
              "    </tr>\n",
              "    <tr>\n",
              "      <th>상품명</th>\n",
              "      <th></th>\n",
              "      <th></th>\n",
              "    </tr>\n",
              "  </thead>\n",
              "  <tbody>\n",
              "    <tr>\n",
              "      <th>봉투</th>\n",
              "      <td>12362</td>\n",
              "      <td>50</td>\n",
              "    </tr>\n",
              "    <tr>\n",
              "      <th>바나나</th>\n",
              "      <td>4285</td>\n",
              "      <td>3900</td>\n",
              "    </tr>\n",
              "    <tr>\n",
              "      <th>야채</th>\n",
              "      <td>4190</td>\n",
              "      <td>0</td>\n",
              "    </tr>\n",
              "    <tr>\n",
              "      <th>켐벨포도</th>\n",
              "      <td>2780</td>\n",
              "      <td>29800</td>\n",
              "    </tr>\n",
              "    <tr>\n",
              "      <th>알뜰특란</th>\n",
              "      <td>2768</td>\n",
              "      <td>5300</td>\n",
              "    </tr>\n",
              "  </tbody>\n",
              "</table>\n",
              "</div>"
            ],
            "text/plain": [
              "       판매건수     가격\n",
              "상품명               \n",
              "봉투    12362     50\n",
              "바나나    4285   3900\n",
              "야채     4190      0\n",
              "켐벨포도   2780  29800\n",
              "알뜰특란   2768   5300"
            ]
          },
          "metadata": {
            "tags": []
          },
          "execution_count": 138
        }
      ]
    },
    {
      "cell_type": "code",
      "metadata": {
        "id": "IYRiUV6COeqJ",
        "colab": {
          "base_uri": "https://localhost:8080/",
          "height": 390
        },
        "outputId": "309aed63-78f6-4683-c414-3f0be8f38bf5"
      },
      "source": [
        "df.head(10)"
      ],
      "execution_count": null,
      "outputs": [
        {
          "output_type": "execute_result",
          "data": {
            "text/html": [
              "<div>\n",
              "<style scoped>\n",
              "    .dataframe tbody tr th:only-of-type {\n",
              "        vertical-align: middle;\n",
              "    }\n",
              "\n",
              "    .dataframe tbody tr th {\n",
              "        vertical-align: top;\n",
              "    }\n",
              "\n",
              "    .dataframe thead th {\n",
              "        text-align: right;\n",
              "    }\n",
              "</style>\n",
              "<table border=\"1\" class=\"dataframe\">\n",
              "  <thead>\n",
              "    <tr style=\"text-align: right;\">\n",
              "      <th></th>\n",
              "      <th>판매건수</th>\n",
              "      <th>가격</th>\n",
              "    </tr>\n",
              "    <tr>\n",
              "      <th>상품명</th>\n",
              "      <th></th>\n",
              "      <th></th>\n",
              "    </tr>\n",
              "  </thead>\n",
              "  <tbody>\n",
              "    <tr>\n",
              "      <th>봉투</th>\n",
              "      <td>12362</td>\n",
              "      <td>50</td>\n",
              "    </tr>\n",
              "    <tr>\n",
              "      <th>바나나</th>\n",
              "      <td>4285</td>\n",
              "      <td>3900</td>\n",
              "    </tr>\n",
              "    <tr>\n",
              "      <th>야채</th>\n",
              "      <td>4190</td>\n",
              "      <td>0</td>\n",
              "    </tr>\n",
              "    <tr>\n",
              "      <th>켐벨포도</th>\n",
              "      <td>2780</td>\n",
              "      <td>29800</td>\n",
              "    </tr>\n",
              "    <tr>\n",
              "      <th>알뜰특란</th>\n",
              "      <td>2768</td>\n",
              "      <td>5300</td>\n",
              "    </tr>\n",
              "    <tr>\n",
              "      <th>딸기</th>\n",
              "      <td>2234</td>\n",
              "      <td>0</td>\n",
              "    </tr>\n",
              "    <tr>\n",
              "      <th>팔음산포도</th>\n",
              "      <td>2161</td>\n",
              "      <td>19800</td>\n",
              "    </tr>\n",
              "    <tr>\n",
              "      <th>봉투</th>\n",
              "      <td>2038</td>\n",
              "      <td>30</td>\n",
              "    </tr>\n",
              "    <tr>\n",
              "      <th>애호박</th>\n",
              "      <td>1962</td>\n",
              "      <td>1490</td>\n",
              "    </tr>\n",
              "    <tr>\n",
              "      <th>청양고추</th>\n",
              "      <td>1901</td>\n",
              "      <td>0</td>\n",
              "    </tr>\n",
              "  </tbody>\n",
              "</table>\n",
              "</div>"
            ],
            "text/plain": [
              "        판매건수     가격\n",
              "상품명                \n",
              "봉투     12362     50\n",
              "바나나     4285   3900\n",
              "야채      4190      0\n",
              "켐벨포도    2780  29800\n",
              "알뜰특란    2768   5300\n",
              "딸기      2234      0\n",
              "팔음산포도   2161  19800\n",
              "봉투      2038     30\n",
              "애호박     1962   1490\n",
              "청양고추    1901      0"
            ]
          },
          "metadata": {
            "tags": []
          },
          "execution_count": 123
        }
      ]
    },
    {
      "cell_type": "code",
      "metadata": {
        "id": "UXD1lNpwOn7i",
        "colab": {
          "base_uri": "https://localhost:8080/",
          "height": 235
        },
        "outputId": "3f20d319-df9d-4104-ce46-c5f916aa2976"
      },
      "source": [
        "df.tail()"
      ],
      "execution_count": null,
      "outputs": [
        {
          "output_type": "execute_result",
          "data": {
            "text/html": [
              "<div>\n",
              "<style scoped>\n",
              "    .dataframe tbody tr th:only-of-type {\n",
              "        vertical-align: middle;\n",
              "    }\n",
              "\n",
              "    .dataframe tbody tr th {\n",
              "        vertical-align: top;\n",
              "    }\n",
              "\n",
              "    .dataframe thead th {\n",
              "        text-align: right;\n",
              "    }\n",
              "</style>\n",
              "<table border=\"1\" class=\"dataframe\">\n",
              "  <thead>\n",
              "    <tr style=\"text-align: right;\">\n",
              "      <th></th>\n",
              "      <th>판매건수</th>\n",
              "      <th>가격</th>\n",
              "    </tr>\n",
              "    <tr>\n",
              "      <th>상품명</th>\n",
              "      <th></th>\n",
              "      <th></th>\n",
              "    </tr>\n",
              "  </thead>\n",
              "  <tbody>\n",
              "    <tr>\n",
              "      <th>바지락</th>\n",
              "      <td>253</td>\n",
              "      <td>0</td>\n",
              "    </tr>\n",
              "    <tr>\n",
              "      <th>해표)카놀라유</th>\n",
              "      <td>253</td>\n",
              "      <td>5600</td>\n",
              "    </tr>\n",
              "    <tr>\n",
              "      <th>오)자른당면</th>\n",
              "      <td>252</td>\n",
              "      <td>5850</td>\n",
              "    </tr>\n",
              "    <tr>\n",
              "      <th>롯데)알뜰소시지</th>\n",
              "      <td>252</td>\n",
              "      <td>4400</td>\n",
              "    </tr>\n",
              "    <tr>\n",
              "      <th>한돈앞다리/불고기,찌개(국내산)</th>\n",
              "      <td>252</td>\n",
              "      <td>0</td>\n",
              "    </tr>\n",
              "  </tbody>\n",
              "</table>\n",
              "</div>"
            ],
            "text/plain": [
              "                   판매건수    가격\n",
              "상품명                          \n",
              "바지락                 253     0\n",
              "해표)카놀라유             253  5600\n",
              "오)자른당면              252  5850\n",
              "롯데)알뜰소시지            252  4400\n",
              "한돈앞다리/불고기,찌개(국내산)   252     0"
            ]
          },
          "metadata": {
            "tags": []
          },
          "execution_count": 124
        }
      ]
    },
    {
      "cell_type": "code",
      "metadata": {
        "id": "Zy73LBwLOp1v",
        "colab": {
          "base_uri": "https://localhost:8080/",
          "height": 390
        },
        "outputId": "a0aa070a-6178-49cd-d214-2e5f7e276771"
      },
      "source": [
        "df1 = df.nlargest(10, '판매건수')\n",
        "df1"
      ],
      "execution_count": null,
      "outputs": [
        {
          "output_type": "execute_result",
          "data": {
            "text/html": [
              "<div>\n",
              "<style scoped>\n",
              "    .dataframe tbody tr th:only-of-type {\n",
              "        vertical-align: middle;\n",
              "    }\n",
              "\n",
              "    .dataframe tbody tr th {\n",
              "        vertical-align: top;\n",
              "    }\n",
              "\n",
              "    .dataframe thead th {\n",
              "        text-align: right;\n",
              "    }\n",
              "</style>\n",
              "<table border=\"1\" class=\"dataframe\">\n",
              "  <thead>\n",
              "    <tr style=\"text-align: right;\">\n",
              "      <th></th>\n",
              "      <th>판매건수</th>\n",
              "      <th>가격</th>\n",
              "    </tr>\n",
              "    <tr>\n",
              "      <th>상품명</th>\n",
              "      <th></th>\n",
              "      <th></th>\n",
              "    </tr>\n",
              "  </thead>\n",
              "  <tbody>\n",
              "    <tr>\n",
              "      <th>봉투</th>\n",
              "      <td>12362</td>\n",
              "      <td>50</td>\n",
              "    </tr>\n",
              "    <tr>\n",
              "      <th>바나나</th>\n",
              "      <td>4285</td>\n",
              "      <td>3900</td>\n",
              "    </tr>\n",
              "    <tr>\n",
              "      <th>야채</th>\n",
              "      <td>4190</td>\n",
              "      <td>0</td>\n",
              "    </tr>\n",
              "    <tr>\n",
              "      <th>켐벨포도</th>\n",
              "      <td>2780</td>\n",
              "      <td>29800</td>\n",
              "    </tr>\n",
              "    <tr>\n",
              "      <th>알뜰특란</th>\n",
              "      <td>2768</td>\n",
              "      <td>5300</td>\n",
              "    </tr>\n",
              "    <tr>\n",
              "      <th>딸기</th>\n",
              "      <td>2234</td>\n",
              "      <td>0</td>\n",
              "    </tr>\n",
              "    <tr>\n",
              "      <th>팔음산포도</th>\n",
              "      <td>2161</td>\n",
              "      <td>19800</td>\n",
              "    </tr>\n",
              "    <tr>\n",
              "      <th>봉투</th>\n",
              "      <td>2038</td>\n",
              "      <td>30</td>\n",
              "    </tr>\n",
              "    <tr>\n",
              "      <th>애호박</th>\n",
              "      <td>1962</td>\n",
              "      <td>1490</td>\n",
              "    </tr>\n",
              "    <tr>\n",
              "      <th>청양고추</th>\n",
              "      <td>1901</td>\n",
              "      <td>0</td>\n",
              "    </tr>\n",
              "  </tbody>\n",
              "</table>\n",
              "</div>"
            ],
            "text/plain": [
              "        판매건수     가격\n",
              "상품명                \n",
              "봉투     12362     50\n",
              "바나나     4285   3900\n",
              "야채      4190      0\n",
              "켐벨포도    2780  29800\n",
              "알뜰특란    2768   5300\n",
              "딸기      2234      0\n",
              "팔음산포도   2161  19800\n",
              "봉투      2038     30\n",
              "애호박     1962   1490\n",
              "청양고추    1901      0"
            ]
          },
          "metadata": {
            "tags": []
          },
          "execution_count": 125
        }
      ]
    },
    {
      "cell_type": "code",
      "metadata": {
        "id": "NF6QArIK7-LQ"
      },
      "source": [
        "df1.plot()"
      ],
      "execution_count": null,
      "outputs": []
    },
    {
      "cell_type": "code",
      "metadata": {
        "id": "uatoMsAK8WY4"
      },
      "source": [
        "df1.plot(kind='pie', y='판매건수')"
      ],
      "execution_count": null,
      "outputs": []
    },
    {
      "cell_type": "code",
      "metadata": {
        "id": "-HvcYswpOwPC",
        "colab": {
          "base_uri": "https://localhost:8080/",
          "height": 390
        },
        "outputId": "9bb4e3a1-2790-470f-9714-fe0efbdb8161"
      },
      "source": [
        "df.nsmallest(10, '판매건수')"
      ],
      "execution_count": null,
      "outputs": [
        {
          "output_type": "execute_result",
          "data": {
            "text/html": [
              "<div>\n",
              "<style scoped>\n",
              "    .dataframe tbody tr th:only-of-type {\n",
              "        vertical-align: middle;\n",
              "    }\n",
              "\n",
              "    .dataframe tbody tr th {\n",
              "        vertical-align: top;\n",
              "    }\n",
              "\n",
              "    .dataframe thead th {\n",
              "        text-align: right;\n",
              "    }\n",
              "</style>\n",
              "<table border=\"1\" class=\"dataframe\">\n",
              "  <thead>\n",
              "    <tr style=\"text-align: right;\">\n",
              "      <th></th>\n",
              "      <th>판매건수</th>\n",
              "      <th>가격</th>\n",
              "    </tr>\n",
              "    <tr>\n",
              "      <th>상품명</th>\n",
              "      <th></th>\n",
              "      <th></th>\n",
              "    </tr>\n",
              "  </thead>\n",
              "  <tbody>\n",
              "    <tr>\n",
              "      <th>오)자른당면</th>\n",
              "      <td>252</td>\n",
              "      <td>5850</td>\n",
              "    </tr>\n",
              "    <tr>\n",
              "      <th>롯데)알뜰소시지</th>\n",
              "      <td>252</td>\n",
              "      <td>4400</td>\n",
              "    </tr>\n",
              "    <tr>\n",
              "      <th>한돈앞다리/불고기,찌개(국내산)</th>\n",
              "      <td>252</td>\n",
              "      <td>0</td>\n",
              "    </tr>\n",
              "    <tr>\n",
              "      <th>CJ)행콩나물</th>\n",
              "      <td>253</td>\n",
              "      <td>1950</td>\n",
              "    </tr>\n",
              "    <tr>\n",
              "      <th>바지락</th>\n",
              "      <td>253</td>\n",
              "      <td>0</td>\n",
              "    </tr>\n",
              "    <tr>\n",
              "      <th>해표)카놀라유</th>\n",
              "      <td>253</td>\n",
              "      <td>5600</td>\n",
              "    </tr>\n",
              "    <tr>\n",
              "      <th>온동네광천파래재래김(전장)</th>\n",
              "      <td>255</td>\n",
              "      <td>2550</td>\n",
              "    </tr>\n",
              "    <tr>\n",
              "      <th>새송이버섯</th>\n",
              "      <td>255</td>\n",
              "      <td>0</td>\n",
              "    </tr>\n",
              "    <tr>\n",
              "      <th>CJ)주부초밥왕(소풍)</th>\n",
              "      <td>256</td>\n",
              "      <td>3750</td>\n",
              "    </tr>\n",
              "    <tr>\n",
              "      <th>황도복숭아</th>\n",
              "      <td>258</td>\n",
              "      <td>0</td>\n",
              "    </tr>\n",
              "  </tbody>\n",
              "</table>\n",
              "</div>"
            ],
            "text/plain": [
              "                   판매건수    가격\n",
              "상품명                          \n",
              "오)자른당면              252  5850\n",
              "롯데)알뜰소시지            252  4400\n",
              "한돈앞다리/불고기,찌개(국내산)   252     0\n",
              "CJ)행콩나물             253  1950\n",
              "바지락                 253     0\n",
              "해표)카놀라유             253  5600\n",
              "온동네광천파래재래김(전장)      255  2550\n",
              "새송이버섯               255     0\n",
              "CJ)주부초밥왕(소풍)        256  3750\n",
              "황도복숭아               258     0"
            ]
          },
          "metadata": {
            "tags": []
          },
          "execution_count": 126
        }
      ]
    },
    {
      "cell_type": "code",
      "metadata": {
        "id": "nHalSKzDO4Fb",
        "colab": {
          "base_uri": "https://localhost:8080/",
          "height": 390
        },
        "outputId": "d962c1fd-8993-4a04-bbbe-2c07f3471e46"
      },
      "source": [
        "df.nsmallest(10, ['판매건수', '가격'])"
      ],
      "execution_count": null,
      "outputs": [
        {
          "output_type": "execute_result",
          "data": {
            "text/html": [
              "<div>\n",
              "<style scoped>\n",
              "    .dataframe tbody tr th:only-of-type {\n",
              "        vertical-align: middle;\n",
              "    }\n",
              "\n",
              "    .dataframe tbody tr th {\n",
              "        vertical-align: top;\n",
              "    }\n",
              "\n",
              "    .dataframe thead th {\n",
              "        text-align: right;\n",
              "    }\n",
              "</style>\n",
              "<table border=\"1\" class=\"dataframe\">\n",
              "  <thead>\n",
              "    <tr style=\"text-align: right;\">\n",
              "      <th></th>\n",
              "      <th>판매건수</th>\n",
              "      <th>가격</th>\n",
              "    </tr>\n",
              "    <tr>\n",
              "      <th>상품명</th>\n",
              "      <th></th>\n",
              "      <th></th>\n",
              "    </tr>\n",
              "  </thead>\n",
              "  <tbody>\n",
              "    <tr>\n",
              "      <th>한돈앞다리/불고기,찌개(국내산)</th>\n",
              "      <td>252</td>\n",
              "      <td>0</td>\n",
              "    </tr>\n",
              "    <tr>\n",
              "      <th>롯데)알뜰소시지</th>\n",
              "      <td>252</td>\n",
              "      <td>4400</td>\n",
              "    </tr>\n",
              "    <tr>\n",
              "      <th>오)자른당면</th>\n",
              "      <td>252</td>\n",
              "      <td>5850</td>\n",
              "    </tr>\n",
              "    <tr>\n",
              "      <th>바지락</th>\n",
              "      <td>253</td>\n",
              "      <td>0</td>\n",
              "    </tr>\n",
              "    <tr>\n",
              "      <th>CJ)행콩나물</th>\n",
              "      <td>253</td>\n",
              "      <td>1950</td>\n",
              "    </tr>\n",
              "    <tr>\n",
              "      <th>해표)카놀라유</th>\n",
              "      <td>253</td>\n",
              "      <td>5600</td>\n",
              "    </tr>\n",
              "    <tr>\n",
              "      <th>새송이버섯</th>\n",
              "      <td>255</td>\n",
              "      <td>0</td>\n",
              "    </tr>\n",
              "    <tr>\n",
              "      <th>온동네광천파래재래김(전장)</th>\n",
              "      <td>255</td>\n",
              "      <td>2550</td>\n",
              "    </tr>\n",
              "    <tr>\n",
              "      <th>CJ)주부초밥왕(소풍)</th>\n",
              "      <td>256</td>\n",
              "      <td>3750</td>\n",
              "    </tr>\n",
              "    <tr>\n",
              "      <th>황도복숭아</th>\n",
              "      <td>258</td>\n",
              "      <td>0</td>\n",
              "    </tr>\n",
              "  </tbody>\n",
              "</table>\n",
              "</div>"
            ],
            "text/plain": [
              "                   판매건수    가격\n",
              "상품명                          \n",
              "한돈앞다리/불고기,찌개(국내산)   252     0\n",
              "롯데)알뜰소시지            252  4400\n",
              "오)자른당면              252  5850\n",
              "바지락                 253     0\n",
              "CJ)행콩나물             253  1950\n",
              "해표)카놀라유             253  5600\n",
              "새송이버섯               255     0\n",
              "온동네광천파래재래김(전장)      255  2550\n",
              "CJ)주부초밥왕(소풍)        256  3750\n",
              "황도복숭아               258     0"
            ]
          },
          "metadata": {
            "tags": []
          },
          "execution_count": 134
        }
      ]
    },
    {
      "cell_type": "code",
      "metadata": {
        "id": "sGuPahe3O_5f"
      },
      "source": [
        "df.sort_values?"
      ],
      "execution_count": null,
      "outputs": []
    },
    {
      "cell_type": "code",
      "metadata": {
        "id": "0bcBT4DMPeiN",
        "colab": {
          "base_uri": "https://localhost:8080/",
          "height": 450
        },
        "outputId": "355e549a-12b8-495e-fd11-c98d26f4d7f1"
      },
      "source": [
        "df.sort_values('가격', ascending=False) [:100]"
      ],
      "execution_count": null,
      "outputs": [
        {
          "output_type": "execute_result",
          "data": {
            "text/html": [
              "<div>\n",
              "<style scoped>\n",
              "    .dataframe tbody tr th:only-of-type {\n",
              "        vertical-align: middle;\n",
              "    }\n",
              "\n",
              "    .dataframe tbody tr th {\n",
              "        vertical-align: top;\n",
              "    }\n",
              "\n",
              "    .dataframe thead th {\n",
              "        text-align: right;\n",
              "    }\n",
              "</style>\n",
              "<table border=\"1\" class=\"dataframe\">\n",
              "  <thead>\n",
              "    <tr style=\"text-align: right;\">\n",
              "      <th></th>\n",
              "      <th>판매건수</th>\n",
              "      <th>가격</th>\n",
              "    </tr>\n",
              "    <tr>\n",
              "      <th>상품명</th>\n",
              "      <th></th>\n",
              "      <th></th>\n",
              "    </tr>\n",
              "  </thead>\n",
              "  <tbody>\n",
              "    <tr>\n",
              "      <th>켐벨포도</th>\n",
              "      <td>2780</td>\n",
              "      <td>29800</td>\n",
              "    </tr>\n",
              "    <tr>\n",
              "      <th>감귤</th>\n",
              "      <td>297</td>\n",
              "      <td>29800</td>\n",
              "    </tr>\n",
              "    <tr>\n",
              "      <th>동서)맥심모카골드믹스</th>\n",
              "      <td>380</td>\n",
              "      <td>23800</td>\n",
              "    </tr>\n",
              "    <tr>\n",
              "      <th>팔음산포도</th>\n",
              "      <td>2161</td>\n",
              "      <td>19800</td>\n",
              "    </tr>\n",
              "    <tr>\n",
              "      <th>부사</th>\n",
              "      <td>844</td>\n",
              "      <td>9800</td>\n",
              "    </tr>\n",
              "    <tr>\n",
              "      <th>...</th>\n",
              "      <td>...</td>\n",
              "      <td>...</td>\n",
              "    </tr>\n",
              "    <tr>\n",
              "      <th>풀)액티비아컵(플레인)</th>\n",
              "      <td>488</td>\n",
              "      <td>2350</td>\n",
              "    </tr>\n",
              "    <tr>\n",
              "      <th>롯데)제주감귤</th>\n",
              "      <td>632</td>\n",
              "      <td>2350</td>\n",
              "    </tr>\n",
              "    <tr>\n",
              "      <th>해)킨사이다</th>\n",
              "      <td>302</td>\n",
              "      <td>2250</td>\n",
              "    </tr>\n",
              "    <tr>\n",
              "      <th>크린백(중）25*35</th>\n",
              "      <td>378</td>\n",
              "      <td>2250</td>\n",
              "    </tr>\n",
              "    <tr>\n",
              "      <th>동원)마일드참치</th>\n",
              "      <td>576</td>\n",
              "      <td>2250</td>\n",
              "    </tr>\n",
              "  </tbody>\n",
              "</table>\n",
              "<p>100 rows × 2 columns</p>\n",
              "</div>"
            ],
            "text/plain": [
              "              판매건수     가격\n",
              "상품명                      \n",
              "켐벨포도          2780  29800\n",
              "감귤             297  29800\n",
              "동서)맥심모카골드믹스    380  23800\n",
              "팔음산포도         2161  19800\n",
              "부사             844   9800\n",
              "...            ...    ...\n",
              "풀)액티비아컵(플레인)   488   2350\n",
              "롯데)제주감귤        632   2350\n",
              "해)킨사이다         302   2250\n",
              "크린백(중）25*35    378   2250\n",
              "동원)마일드참치       576   2250\n",
              "\n",
              "[100 rows x 2 columns]"
            ]
          },
          "metadata": {
            "tags": []
          },
          "execution_count": 132
        }
      ]
    },
    {
      "cell_type": "code",
      "metadata": {
        "id": "jsCpdBy4PqAA",
        "colab": {
          "base_uri": "https://localhost:8080/",
          "height": 450
        },
        "outputId": "1c6f08a0-2e54-400c-dc3c-4e8a3c427502"
      },
      "source": [
        "df.sort_values('가격', ascending=False) [100:200]"
      ],
      "execution_count": null,
      "outputs": [
        {
          "output_type": "execute_result",
          "data": {
            "text/html": [
              "<div>\n",
              "<style scoped>\n",
              "    .dataframe tbody tr th:only-of-type {\n",
              "        vertical-align: middle;\n",
              "    }\n",
              "\n",
              "    .dataframe tbody tr th {\n",
              "        vertical-align: top;\n",
              "    }\n",
              "\n",
              "    .dataframe thead th {\n",
              "        text-align: right;\n",
              "    }\n",
              "</style>\n",
              "<table border=\"1\" class=\"dataframe\">\n",
              "  <thead>\n",
              "    <tr style=\"text-align: right;\">\n",
              "      <th></th>\n",
              "      <th>판매건수</th>\n",
              "      <th>가격</th>\n",
              "    </tr>\n",
              "    <tr>\n",
              "      <th>상품명</th>\n",
              "      <th></th>\n",
              "      <th></th>\n",
              "    </tr>\n",
              "  </thead>\n",
              "  <tbody>\n",
              "    <tr>\n",
              "      <th>쌈배추</th>\n",
              "      <td>708</td>\n",
              "      <td>2150</td>\n",
              "    </tr>\n",
              "    <tr>\n",
              "      <th>풀)국산콩나물</th>\n",
              "      <td>260</td>\n",
              "      <td>2100</td>\n",
              "    </tr>\n",
              "    <tr>\n",
              "      <th>강릉심층수팩두부</th>\n",
              "      <td>444</td>\n",
              "      <td>2000</td>\n",
              "    </tr>\n",
              "    <tr>\n",
              "      <th>빙)굿모닝우유</th>\n",
              "      <td>710</td>\n",
              "      <td>1980</td>\n",
              "    </tr>\n",
              "    <tr>\n",
              "      <th>브로컬리</th>\n",
              "      <td>462</td>\n",
              "      <td>1980</td>\n",
              "    </tr>\n",
              "    <tr>\n",
              "      <th>...</th>\n",
              "      <td>...</td>\n",
              "      <td>...</td>\n",
              "    </tr>\n",
              "    <tr>\n",
              "      <th>특수야채류</th>\n",
              "      <td>520</td>\n",
              "      <td>0</td>\n",
              "    </tr>\n",
              "    <tr>\n",
              "      <th>켐벨포도</th>\n",
              "      <td>552</td>\n",
              "      <td>0</td>\n",
              "    </tr>\n",
              "    <tr>\n",
              "      <th>숙주</th>\n",
              "      <td>584</td>\n",
              "      <td>0</td>\n",
              "    </tr>\n",
              "    <tr>\n",
              "      <th>봄동</th>\n",
              "      <td>636</td>\n",
              "      <td>0</td>\n",
              "    </tr>\n",
              "    <tr>\n",
              "      <th>한돈앞다리/불고기,찌개(국내산)</th>\n",
              "      <td>252</td>\n",
              "      <td>0</td>\n",
              "    </tr>\n",
              "  </tbody>\n",
              "</table>\n",
              "<p>100 rows × 2 columns</p>\n",
              "</div>"
            ],
            "text/plain": [
              "                   판매건수    가격\n",
              "상품명                          \n",
              "쌈배추                 708  2150\n",
              "풀)국산콩나물             260  2100\n",
              "강릉심층수팩두부            444  2000\n",
              "빙)굿모닝우유             710  1980\n",
              "브로컬리                462  1980\n",
              "...                 ...   ...\n",
              "특수야채류               520     0\n",
              "켐벨포도                552     0\n",
              "숙주                  584     0\n",
              "봄동                  636     0\n",
              "한돈앞다리/불고기,찌개(국내산)   252     0\n",
              "\n",
              "[100 rows x 2 columns]"
            ]
          },
          "metadata": {
            "tags": []
          },
          "execution_count": 133
        }
      ]
    },
    {
      "cell_type": "markdown",
      "metadata": {
        "id": "HIAViqNG66Dh"
      },
      "source": [
        "---"
      ]
    }
  ]
}